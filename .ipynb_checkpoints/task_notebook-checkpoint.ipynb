version https://git-lfs.github.com/spec/v1
oid sha256:714ef5a82eb3e4ff2392e06fc0c711a36037550e8db08777db7980bed83197c6
size 4905330
