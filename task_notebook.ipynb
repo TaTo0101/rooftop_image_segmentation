version https://git-lfs.github.com/spec/v1
oid sha256:56ea4fb9a4163705fdbae613537579a90a78b25fb73fb5ec595d5b20772aab72
size 14090096
